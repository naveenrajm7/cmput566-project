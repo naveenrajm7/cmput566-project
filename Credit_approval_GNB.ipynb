{
 "cells": [
  {
   "cell_type": "code",
   "execution_count": 44,
   "id": "f075e6a0",
   "metadata": {},
   "outputs": [],
   "source": [
    "# Import pandas\n",
    "import pandas as pd\n",
    "\n",
    "from utils import plot_data, generate_data\n",
    "import numpy as np\n",
    "import matplotlib.pyplot as plt\n",
    "# Import pandas\n",
    "import pandas as pd\n",
    "# For spliting\n",
    "from sklearn.model_selection import train_test_split"
   ]
  },
  {
   "cell_type": "code",
   "execution_count": 45,
   "id": "7ce339bd",
   "metadata": {},
   "outputs": [],
   "source": [
    "# Load dataset\n",
    "df = pd.read_excel('default of credit card clients.xls', header=1)"
   ]
  },
  {
   "cell_type": "code",
   "execution_count": 46,
   "id": "09f113c6",
   "metadata": {},
   "outputs": [],
   "source": [
    "# Rename column PAY_0 to PAY_1\n",
    "df.rename(columns={'PAY_0':'PAY_1'}, inplace=True)\n",
    "# Rename column \n",
    "df.rename(columns={'default payment next month':'def_pay'}, inplace=True)"
   ]
  },
  {
   "cell_type": "code",
   "execution_count": 47,
   "id": "62b419b5",
   "metadata": {},
   "outputs": [],
   "source": [
    "# Seperate X and y from dataset\n",
    "df_X = df.drop(['def_pay'], axis=1)\n",
    "df_y = df.def_pay\n",
    "\n",
    "# Split data into train and test set\n",
    "X_train, X_test, y_train, y_test = train_test_split(df_X, df_y, test_size=0.2, random_state=10)"
   ]
  },
  {
   "cell_type": "code",
   "execution_count": 48,
   "id": "8073fd44",
   "metadata": {},
   "outputs": [
    {
     "name": "stdout",
     "output_type": "stream",
     "text": [
      "(24000, 24)\n",
      "(6000, 24)\n",
      "(24000,)\n",
      "(6000,)\n"
     ]
    }
   ],
   "source": [
    "# Shape\n",
    "print(X_train.shape)\n",
    "print(X_test.shape)\n",
    "print(y_train.shape)\n",
    "print(y_test.shape)"
   ]
  },
  {
   "cell_type": "code",
   "execution_count": 49,
   "id": "72332ff5",
   "metadata": {},
   "outputs": [],
   "source": [
    "from sklearn.naive_bayes import GaussianNB\n",
    "# metrics\n",
    "from sklearn.metrics import accuracy_score,classification_report,confusion_matrix,mean_squared_error"
   ]
  },
  {
   "cell_type": "code",
   "execution_count": 50,
   "id": "ab4a36b3",
   "metadata": {},
   "outputs": [
    {
     "name": "stdout",
     "output_type": "stream",
     "text": [
      "#### Naive Bayes with 24 features #### \n",
      "              precision    recall  f1-score   support\n",
      "\n",
      "           0       0.24      0.87      0.38      1306\n",
      "           1       0.87      0.24      0.38      4694\n",
      "\n",
      "    accuracy                           0.38      6000\n",
      "   macro avg       0.56      0.56      0.38      6000\n",
      "weighted avg       0.73      0.38      0.38      6000\n",
      "\n",
      "[[1133  173]\n",
      " [3550 1144]]\n",
      "\n",
      "Accuracy Score for gnb_model_1:  0.3795\n"
     ]
    }
   ],
   "source": [
    "# GNBayes\n",
    "gnb_model_1 = GaussianNB()\n",
    "gnb_model_1.fit(X_train, y_train)\n",
    "y_pred = gnb_model_1.predict(X_test)\n",
    "\n",
    "print(\"#### Naive Bayes with 24 features #### \")\n",
    "print(classification_report(y_pred, y_test))\n",
    "print(confusion_matrix(y_pred, y_test))\n",
    "print('\\nAccuracy Score for gnb_model_1: ', accuracy_score(y_pred,y_test))"
   ]
  },
  {
   "cell_type": "code",
   "execution_count": 51,
   "id": "19716511",
   "metadata": {},
   "outputs": [],
   "source": [
    "df_Xn = df_X[['LIMIT_BAL', 'EDUCATION', 'AGE']]\n",
    "\n",
    "# Split data into train and test set\n",
    "X_train, X_test, y_train, y_test = train_test_split(df_Xn, df_y, test_size=0.2, random_state=10)"
   ]
  },
  {
   "cell_type": "code",
   "execution_count": 52,
   "id": "f197350d",
   "metadata": {},
   "outputs": [
    {
     "name": "stdout",
     "output_type": "stream",
     "text": [
      "(24000, 3)\n",
      "(6000, 3)\n",
      "(24000,)\n",
      "(6000,)\n"
     ]
    }
   ],
   "source": [
    "# Shape\n",
    "print(X_train.shape)\n",
    "print(X_test.shape)\n",
    "print(y_train.shape)\n",
    "print(y_test.shape)"
   ]
  },
  {
   "cell_type": "code",
   "execution_count": 54,
   "id": "fef5c17a",
   "metadata": {},
   "outputs": [
    {
     "name": "stdout",
     "output_type": "stream",
     "text": [
      "#### Naive Bayes with 3 features #### \n",
      "              precision    recall  f1-score   support\n",
      "\n",
      "           0       1.00      0.78      0.88      6000\n",
      "           1       0.00      0.00      0.00         0\n",
      "\n",
      "    accuracy                           0.78      6000\n",
      "   macro avg       0.50      0.39      0.44      6000\n",
      "weighted avg       1.00      0.78      0.88      6000\n",
      "\n",
      "[[4683 1317]\n",
      " [   0    0]]\n",
      "\n",
      "Accuracy Score for gnb_model_2:  0.7805\n"
     ]
    },
    {
     "name": "stderr",
     "output_type": "stream",
     "text": [
      "/cshome/nmuthura/Work/cmput660/senv/lib/python3.8/site-packages/sklearn/metrics/_classification.py:1344: UndefinedMetricWarning: Recall and F-score are ill-defined and being set to 0.0 in labels with no true samples. Use `zero_division` parameter to control this behavior.\n",
      "  _warn_prf(average, modifier, msg_start, len(result))\n",
      "/cshome/nmuthura/Work/cmput660/senv/lib/python3.8/site-packages/sklearn/metrics/_classification.py:1344: UndefinedMetricWarning: Recall and F-score are ill-defined and being set to 0.0 in labels with no true samples. Use `zero_division` parameter to control this behavior.\n",
      "  _warn_prf(average, modifier, msg_start, len(result))\n",
      "/cshome/nmuthura/Work/cmput660/senv/lib/python3.8/site-packages/sklearn/metrics/_classification.py:1344: UndefinedMetricWarning: Recall and F-score are ill-defined and being set to 0.0 in labels with no true samples. Use `zero_division` parameter to control this behavior.\n",
      "  _warn_prf(average, modifier, msg_start, len(result))\n"
     ]
    }
   ],
   "source": [
    "# GNBayes with less features\n",
    "gnb_model_2 = GaussianNB()\n",
    "gnb_model_2.fit(X_train, y_train)\n",
    "y_pred = gnb_model_2.predict(X_test)\n",
    "\n",
    "print(\"#### Naive Bayes with 3 features #### \")\n",
    "print(classification_report(y_pred, y_test))\n",
    "print(confusion_matrix(y_pred, y_test))\n",
    "print('\\nAccuracy Score for gnb_model_2: ', accuracy_score(y_pred,y_test))"
   ]
  },
  {
   "cell_type": "code",
   "execution_count": null,
   "id": "70527ecc",
   "metadata": {},
   "outputs": [],
   "source": []
  }
 ],
 "metadata": {
  "kernelspec": {
   "display_name": "Python 3 (ipykernel)",
   "language": "python",
   "name": "python3"
  },
  "language_info": {
   "codemirror_mode": {
    "name": "ipython",
    "version": 3
   },
   "file_extension": ".py",
   "mimetype": "text/x-python",
   "name": "python",
   "nbconvert_exporter": "python",
   "pygments_lexer": "ipython3",
   "version": "3.8.10"
  }
 },
 "nbformat": 4,
 "nbformat_minor": 5
}
